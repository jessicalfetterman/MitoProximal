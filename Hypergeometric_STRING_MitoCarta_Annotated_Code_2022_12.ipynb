{
 "cells": [
  {
   "cell_type": "markdown",
   "id": "4d711c21",
   "metadata": {},
   "source": [
    "Objective: Identify MitoProximal genes using hypergeometric means to determine the overlap in STRING networks and the MitoCarta 3.0 gene list. Ensembl protein IDs are used as the input into the hypergeometric test."
   ]
  },
  {
   "cell_type": "code",
   "execution_count": null,
   "id": "5dcaecf2",
   "metadata": {},
   "outputs": [],
   "source": [
    "#Setting up the environment- loading packages needed\n",
    "import re, pandas as pd, math as m\n",
    "from scipy.stats import hypergeom\n",
    "import os"
   ]
  },
  {
   "cell_type": "code",
   "execution_count": null,
   "id": "8209a950",
   "metadata": {},
   "outputs": [],
   "source": [
    "###########################\n",
    "# Variable declaration\n",
    "###########################\n",
    "\n",
    "# define your folder to the Mitocarta csv file as a string\n",
    "mitocarta_dir = ''\n",
    "\n",
    "# define your Mitocarta csv file listing the Ensembl Protein ID's for all genes as a string ('File')\n",
    "experimental_geneset = mitocarta_dir + ''\n",
    "\n",
    "#directory containing each STRING target gene with its neighbors as a string\n",
    "stringlists_dir = ''\n",
    "\n",
    "#Define the established genesets (e.g., STRING targets with their clouds)\n",
    "established_genesets  = os.listdir(stringlists_dir)\n",
    "\n",
    "M_all_genes = 18872 # number of all human genes having neighbors in String  \n",
    "# n_target_neighbors = number of gene nearest neighbors from String DB. Cloud of neighbors around each individual gene. Will be generated for each gene on the fly\n",
    "N_sig_genes =  1135 # number of genes in Mitocarta. Note: a long non-coding RNA is including in the list of MitoCarta 3.0 genes, which was removed as it is not be in the STRING protein networks \n",
    "# x_sig_neighbors = the overlap (number of Mitocarta_plus genes that are also the target neighbors). Will be generated for each gene on the fly"
   ]
  },
  {
   "cell_type": "code",
   "execution_count": null,
   "id": "4b4f9b5d",
   "metadata": {},
   "outputs": [],
   "source": [
    "#Calculating the number of neighbors for each target gene by processing the STRING files we created for each neighbor\n",
    "def read_processed_target_neighbors(established_geneset):    #established_geneset in this case is each STRING text file \n",
    "    neighbor_dict = {}\n",
    "    num_neighbors = 0\n",
    "    target_neighbors_file = stringlists_dir + established_geneset\n",
    "    data = pd.read_table(target_neighbors_file)\n",
    "    \n",
    "    num_dowstream = 0\n",
    "    num_upstream = 0\n",
    "\n",
    "    for row in data.values:    \n",
    "        ensembl = row[0].upper().strip()\n",
    "        hugo = row[1].upper().strip()\n",
    "        num_neighbors += 1\n",
    "        neighbor_dict[ensembl] = established_geneset \n",
    "        \n",
    "    return(num_neighbors, neighbor_dict)"
   ]
  },
  {
   "cell_type": "code",
   "execution_count": null,
   "id": "88d7f0b0",
   "metadata": {},
   "outputs": [],
   "source": [
    "#Creating a list of the ensembl protein id's for the MitoCarta genes\n",
    "mito_genes = []\n",
    "with open(experimental_geneset) as f:\n",
    "    next(f) #skipping first row since it's a header\n",
    "    for line in f:\n",
    "        row = line.split(',')\n",
    "        hugo = row[0].upper()\n",
    "        ensembl = row[1].strip(' ')\n",
    "        if ensembl == \"\":\n",
    "            pass\n",
    "        elif ensembl == \"-\":\n",
    "            pass\n",
    "        else:\n",
    "            #print(ensembl)\n",
    "            mito_genes.append(ensembl)  "
   ]
  },
  {
   "cell_type": "code",
   "execution_count": null,
   "id": "66032e4e",
   "metadata": {},
   "outputs": [],
   "source": [
    "#Counting the number of times the genes in the experimental geneset (MitoCarta) overlap with the established geneset (STRING neighbors of the current gene)\n",
    "def overlap_with_established_geneset(experimental_geneset, established_geneset): #experimental_geneset is the MitoCarta file\n",
    "    \n",
    "    x_sig_neighbors = 0\n",
    "    \n",
    "    mito_genes = []\n",
    "    with open(experimental_geneset) as f:\n",
    "        next(f) #skipping first row since it's a header\n",
    "        for line in f:\n",
    "            row = line.split(',')\n",
    "            hugo = row[0].upper()\n",
    "            ensembl = row[1].strip(' ')\n",
    "            if ensembl == \"\":\n",
    "                pass\n",
    "            elif ensembl == \"-\":\n",
    "                pass\n",
    "            else:\n",
    "                #print(ensembl)\n",
    "                mito_genes.append(ensembl)  \n",
    "    \n",
    "    for ensembl in mito_genes:\n",
    "        if ensembl in neighbor_dict:\n",
    "            x_sig_neighbors += 1\n",
    "    \n",
    "    return(x_sig_neighbors)"
   ]
  },
  {
   "cell_type": "code",
   "execution_count": null,
   "id": "e3fe1537",
   "metadata": {},
   "outputs": [],
   "source": [
    "#############################################\n",
    "# Hypergeometric test\n",
    "#############################################\n",
    "#note that the established_geneset is the cloud of neighbors from STRING\n",
    "def hypergeom_test(established_geneset):\n",
    "    \n",
    "    pval = hypergeom.sf(x_sig_neighbors-1, M_all_genes, n_target_neighbors, N_sig_genes)\n",
    "    print (established_geneset.replace('_string_neighbors.txt','').replace('/restricted/project/icamp/mito-nDNA-genes/string_lists/', ''), x_sig_neighbors, M_all_genes, N_sig_genes, n_target_neighbors, pval, sep=\"\\t\")\n",
    "    print (established_geneset.replace('_string_neighbors.txt','').replace('/restricted/project/icamp/mito-nDNA-genes/string_lists/', ''), x_sig_neighbors, M_all_genes, N_sig_genes, n_target_neighbors, pval, sep=\"\\t\", file = fout)\n",
    "\n",
    "# open output file (better to give it a dynamic name based on experimental geneset)\n",
    "fout = open(\"outfile.txt\", 'w')\n",
    "print ( '\\n','\\tgene', 'ovrlp', 'ngenes', 'siggns', 'neibrs', 'pval', sep=\"\\t\")\n",
    "print ( '\\n','\\tgene', 'ovrlp', 'ngenes', 'siggns', 'neibrs', 'pval', sep=\"\\t\", file = fout)\n",
    "\n",
    "x_sig_neighbors = 0\n",
    "\n",
    "#this for-loop is to compare each \"cloud\" of neighbors with Mitocarta or another genelist \n",
    "for est_geneset in established_genesets:\n",
    "    \n",
    "    n_target_neighbors, neighbor_dict = read_processed_target_neighbors(est_geneset) \n",
    "    \n",
    "    x_sig_neighbors = overlap_with_established_geneset(experimental_geneset, est_geneset)\n",
    "    \n",
    "    hypergeom_test(est_geneset)\n",
    "\n",
    "fout.close()"
   ]
  },
  {
   "cell_type": "code",
   "execution_count": null,
   "id": "e619fd63",
   "metadata": {},
   "outputs": [],
   "source": []
  }
 ],
 "metadata": {
  "kernelspec": {
   "display_name": "Python 3",
   "language": "python",
   "name": "python3"
  },
  "language_info": {
   "codemirror_mode": {
    "name": "ipython",
    "version": 3
   },
   "file_extension": ".py",
   "mimetype": "text/x-python",
   "name": "python",
   "nbconvert_exporter": "python",
   "pygments_lexer": "ipython3",
   "version": "3.8.10"
  }
 },
 "nbformat": 4,
 "nbformat_minor": 5
}
